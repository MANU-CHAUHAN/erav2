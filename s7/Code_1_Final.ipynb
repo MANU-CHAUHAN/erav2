{
  "cells": [
    {
      "attachments": {},
      "cell_type": "markdown",
      "metadata": {
        "id": "gIwLZ4wS8Odi"
      },
      "source": [
        "# Code #1:\n",
        "## Please find the notes at the end\n"
      ]
    },
    {
      "cell_type": "code",
      "execution_count": 1,
      "metadata": {
        "id": "ofNRIzCGRyi3"
      },
      "outputs": [],
      "source": [
        "import torch\n",
        "import torch.nn as nn\n",
        "import torch.nn.functional as f\n",
        "from torchvision import datasets, transforms\n",
        "from torchsummary import summary\n",
        "import torch.optim as optim\n",
        "import matplotlib.pyplot as plt\n",
        "%matplotlib inline\n",
        "from tqdm import tqdm"
      ]
    },
    {
      "cell_type": "code",
      "execution_count": 2,
      "metadata": {
        "id": "62P9WuXYSyxH"
      },
      "outputs": [],
      "source": [
        "# Train data transformation\n",
        "\n",
        "train_transforms = transforms.Compose([\n",
        "                                       transforms.ToTensor(),\n",
        "                                       transforms.Normalize(mean=(0.1307,), std=(0.3081,))\n",
        "                                    ])\n",
        "\n",
        "# Test data transformations\n",
        "\n",
        "test_transforms = transforms.Compose([\n",
        "                                       transforms.ToTensor(),\n",
        "                                       transforms.Normalize(mean=(0.1307,), std=(0.3081,))\n",
        "                                    ])"
      ]
    },
    {
      "cell_type": "code",
      "execution_count": 3,
      "metadata": {
        "id": "1MZi5PZFVmPJ"
      },
      "outputs": [],
      "source": [
        "# download dataset and create train and test sets separately\n",
        "\n",
        "train = datasets.MNIST(root = '../data', train = True, download = True, transform= train_transforms)\n",
        "\n",
        "test = datasets.MNIST(root = '../data', train = False, download = True, transform=test_transforms)"
      ]
    },
    {
      "cell_type": "code",
      "execution_count": 4,
      "metadata": {
        "colab": {
          "base_uri": "https://localhost:8080/"
        },
        "id": "oB7zRmGXZJTe",
        "outputId": "21da7190-0e57-44dc-e1c1-7e735398b28b"
      },
      "outputs": [
        {
          "data": {
            "text/plain": [
              "<torch._C.Generator at 0x7f0b1102f6f0>"
            ]
          },
          "execution_count": 4,
          "metadata": {
            "tags": []
          },
          "output_type": "execute_result"
        }
      ],
      "source": [
        "# set seed values\n",
        "torch.manual_seed(400)"
      ]
    },
    {
      "cell_type": "code",
      "execution_count": 5,
      "metadata": {
        "id": "SvuLYjgpbtnX"
      },
      "outputs": [],
      "source": [
        "cuda = torch.cuda.is_available()\n",
        "\n",
        "if cuda:\n",
        "    torch.cuda.manual_seed(400)\n",
        "    \n",
        "device = torch.device(\"cuda\" if cuda else \"cpu\")"
      ]
    },
    {
      "cell_type": "code",
      "execution_count": 6,
      "metadata": {
        "id": "qrmJzVIyb1UE"
      },
      "outputs": [],
      "source": [
        "dataloader_args = dict(shuffle=True, batch_size = 64, num_workers=2, pin_memory=True) if cuda else dict(shuffle=True, batch_size = 64)"
      ]
    },
    {
      "cell_type": "code",
      "execution_count": 7,
      "metadata": {
        "id": "x1ksUfJ7cE1W"
      },
      "outputs": [],
      "source": [
        "#Dataloaders\n",
        "\n",
        "train_loader = torch.utils.data.DataLoader(dataset=train, **dataloader_args)\n",
        "\n",
        "test_loader = torch.utils.data.DataLoader(dataset=test, **dataloader_args)"
      ]
    },
    {
      "cell_type": "code",
      "execution_count": 8,
      "metadata": {
        "colab": {
          "base_uri": "https://localhost:8080/",
          "height": 282
        },
        "id": "9bJynJC6c_er",
        "outputId": "836f975a-fe45-47aa-b75c-32dce9333077"
      },
      "outputs": [
        {
          "data": {
            "text/plain": [
              "<matplotlib.image.AxesImage at 0x7f0b0b7f8910>"
            ]
          },
          "execution_count": 8,
          "metadata": {
            "tags": []
          },
          "output_type": "execute_result"
        },
        {
          "data": {
            "image/png": "[encoded data removed]",
            "text/plain": [
              "<Figure size 432x288 with 1 Axes>"
            ]
          },
          "metadata": {
            "needs_background": "light",
            "tags": []
          },
          "output_type": "display_data"
        }
      ],
      "source": [
        "dataiter = iter(train_loader)\n",
        "images, labels = next(dataiter)\n",
        "plt.imshow(images[1].numpy().squeeze(), cmap='gray_r')"
      ]
    },
    {
      "cell_type": "code",
      "execution_count": 9,
      "metadata": {
        "id": "J6VLrl9_daks"
      },
      "outputs": [],
      "source": [
        "train_losses = []\n",
        "train_accuracy = []\n",
        "\n",
        "test_losses = []\n",
        "test_accuracy = []"
      ]
    },
    {
      "cell_type": "code",
      "execution_count": 10,
      "metadata": {
        "id": "7_07A_WGdpF_"
      },
      "outputs": [],
      "source": [
        "def train_eval_model(model, train_loader, optimizer, device, epochs=1, test=False, test_loader=None):\n",
        "          \n",
        "    model.train() # set the train mode\n",
        "    \n",
        "    # iterate over for `epochs` epochs and keep storing valuable info\n",
        "\n",
        "    for epoch in range(epochs):\n",
        "      correct = processed = train_loss = 0\n",
        "\n",
        "      print(f\"\\n epoch num ================================= {epoch+1}\")\n",
        "      \n",
        "      pbar = tqdm(train_loader)\n",
        "      \n",
        "      for batch_idx, (data, target) in enumerate(pbar):\n",
        "          data, target = data.to(device), target.to(device) # move data to `device`\n",
        "\n",
        "          optimizer.zero_grad() # zero out the gradients to avoid accumulating them over loops\n",
        "\n",
        "          output = model(data) # get the model's predictions\n",
        "\n",
        "          loss = f.nll_loss(output, target) # calculate Negative Log Likelihood loss using ground truth labels and the model's predictions\n",
        "\n",
        "          train_loss += loss.item() # add up the train loss\n",
        "\n",
        "          loss.backward() # boom ! The magic function to perform backpropagation and calculate the gradients\n",
        "\n",
        "          optimizer.step() # take 1 step foe the optimizer and update the weights\n",
        "\n",
        "          pred = output.argmax(dim=1, keepdim=True)  # get the index of the max log-probability\n",
        "\n",
        "          correct += pred.eq(target.view_as(pred)).sum().item() #  compare and see how many predictions are coorect and then add up the count\n",
        "\n",
        "          processed += len(data) # total processed data size\n",
        "\n",
        "      acc = 100 * correct/processed\n",
        "\n",
        "      train_losses.append(train_loss)\n",
        "\n",
        "      train_accuracy.append(acc)\n",
        "      \n",
        "      pbar.set_description(desc= f'loss={loss.item()} batch_id={batch_idx}')\n",
        "      \n",
        "      \n",
        "      train_loss /= len(train_loader.dataset)\n",
        "      print('Train metrics: accuracy: {}/{} ({:.4f}%)'.format(correct,\n",
        "                                                              len(train_loader.dataset),\n",
        "                                                              correct * 100 / len(train_loader.dataset)))\n",
        "\n",
        "      if test: # moving to evaluation\n",
        "          model.eval() # set the correct mode\n",
        "          \n",
        "          correct = test_loss = 0\n",
        "\n",
        "          with torch.no_grad(): # to disable gradient calculation with no_grad context\n",
        "              \n",
        "              for data, target in test_loader:\n",
        "\n",
        "                  data, target = data.to(device), target.to(device)\n",
        "                  \n",
        "                  output = model(data)\n",
        "                  \n",
        "                  test_loss += f.nll_loss(output, target, reduction='sum').item()  # sum up batch loss\n",
        "                  \n",
        "                  pred = output.argmax(dim=1, keepdim=True)  # get the index of the max log-probability\n",
        "                  \n",
        "                  correct += pred.eq(target.view_as(pred)).sum().item()\n",
        "\n",
        "          test_loss /= len(test_loader.dataset)\n",
        "          test_losses.append(test_loss)\n",
        "          test_accuracy.append(100. * correct / len(test_loader.dataset))\n",
        "\n",
        "          print('Test metrics: average loss: {:.4f}, accuracy: {}/{} ({:.5f}%)\\n'.format(\n",
        "              test_loss, correct, len(test_loader.dataset),\n",
        "              100. * correct / len(test_loader.dataset)))"
      ]
    },
    {
      "cell_type": "code",
      "execution_count": 11,
      "metadata": {
        "id": "cZTnhFeCip1D"
      },
      "outputs": [],
      "source": [
        "class Network_1(nn.Module):        \n",
        "    def __init__(self):\n",
        "        \n",
        "        super().__init__()\n",
        "\n",
        "        # Input Block\n",
        "        self.convblock1 = nn.Sequential(\n",
        "            nn.Conv2d(in_channels=1, out_channels=16, kernel_size=(3, 3), padding=1, bias=False),\n",
        "            nn.BatchNorm2d(16),\n",
        "            nn.ReLU()) #input = 28, output = 28, RF = 3\n",
        "\n",
        "        # CONVOLUTION BLOCK 1\n",
        "        self.convblock2 = nn.Sequential(\n",
        "            nn.Conv2d(16, 32, 3, padding=0, bias=False),\n",
        "            nn.BatchNorm2d(32),\n",
        "            nn.ReLU()) #input = 28, output = 26, RF = 5\n",
        "        \n",
        "        # TRANSITION BLOCK 1, let's have a mix of channels without extracting features here\n",
        "        self.convblock3 = nn.Sequential(\n",
        "            nn.Conv2d(32, 14, 1, padding=0, bias=False),\n",
        "            nn.ReLU()) #input = 28, output = 26, RF = 5\n",
        "        \n",
        "        self.pool1 = nn.MaxPool2d(2, 2) #input = 26, output = 13, RF = 10\n",
        "\n",
        "        \n",
        "        self.convblock4 = nn.Sequential(\n",
        "            nn.Conv2d(14, 24, 3, padding=0, bias=False),\n",
        "            nn.ReLU(),\n",
        "            nn.BatchNorm2d(24)) #input = 13, output = 11, RF = 12\n",
        "\n",
        "        \n",
        "        self.convblock5 = nn.Sequential(\n",
        "            nn.Conv2d(24, 24, 3, padding=0, bias=False),\n",
        "            nn.ReLU(),\n",
        "            nn.BatchNorm2d(24)) #input = 11, output = 9, RF = 14\n",
        "        \n",
        "        # Transition via 1x1 to reduce params and allow selection of relevant channels for next 3x3 layer to extract features\n",
        "        self.convblock6 = nn.Sequential(\n",
        "            nn.Conv2d(24, 12, 1, padding=0, bias=False),\n",
        "            nn.ReLU(),\n",
        "            nn.BatchNorm2d(12)) #input = 9, output = 9, RF = 14\n",
        "\n",
        "        self.convblock7 = nn.Sequential(\n",
        "            nn.Conv2d(12, 16, 3, padding=0, bias=False),\n",
        "            nn.ReLU(),\n",
        "            nn.BatchNorm2d(16)) #input = 9, output = 7, RF = 16\n",
        "        \n",
        "        self.avg = nn.AvgPool2d(7) # Average Pool layer to reduce dimensions and have a larger view for incoming dimensions to make a decision\n",
        "        \n",
        "        # Final layer with 1x1 to have 10 output channels\n",
        "        self.convblock8 = nn.Sequential(\n",
        "            nn.Conv2d(16, 10, 1, padding=0, bias=False)) \n",
        "\n",
        "    def forward(self, x):\n",
        "        x = self.convblock1(x)\n",
        "        x = self.convblock2(x)\n",
        "        x = self.convblock3(x)\n",
        "        x = self.pool1(x) \n",
        "        x = self.convblock4(x)\n",
        "        x = self.convblock5(x)\n",
        "        x = self.convblock6(x)\n",
        "        x = self.convblock7(x)\n",
        "        x = self.avg(x)\n",
        "        x = self.convblock8(x)\n",
        "        x = x.view(-1, 10)\n",
        "        return f.log_softmax(x, dim=-1)"
      ]
    },
    {
      "cell_type": "code",
      "execution_count": 12,
      "metadata": {
        "colab": {
          "base_uri": "https://localhost:8080/"
        },
        "id": "OO7ne6w1kSx2",
        "outputId": "9e1842e5-b7db-43ad-979f-a5a15c971eb2"
      },
      "outputs": [
        {
          "name": "stdout",
          "output_type": "stream",
          "text": [
            "----------------------------------------------------------------\n",
            "        Layer (type)               Output Shape         Param #\n",
            "================================================================\n",
            "            Conv2d-1           [-1, 16, 28, 28]             144\n",
            "       BatchNorm2d-2           [-1, 16, 28, 28]              32\n",
            "              ReLU-3           [-1, 16, 28, 28]               0\n",
            "            Conv2d-4           [-1, 32, 26, 26]           4,608\n",
            "       BatchNorm2d-5           [-1, 32, 26, 26]              64\n",
            "              ReLU-6           [-1, 32, 26, 26]               0\n",
            "            Conv2d-7           [-1, 14, 26, 26]             448\n",
            "              ReLU-8           [-1, 14, 26, 26]               0\n",
            "         MaxPool2d-9           [-1, 14, 13, 13]               0\n",
            "           Conv2d-10           [-1, 24, 11, 11]           3,024\n",
            "             ReLU-11           [-1, 24, 11, 11]               0\n",
            "      BatchNorm2d-12           [-1, 24, 11, 11]              48\n",
            "           Conv2d-13             [-1, 24, 9, 9]           5,184\n",
            "             ReLU-14             [-1, 24, 9, 9]               0\n",
            "      BatchNorm2d-15             [-1, 24, 9, 9]              48\n",
            "           Conv2d-16             [-1, 12, 9, 9]             288\n",
            "             ReLU-17             [-1, 12, 9, 9]               0\n",
            "      BatchNorm2d-18             [-1, 12, 9, 9]              24\n",
            "           Conv2d-19             [-1, 16, 7, 7]           1,728\n",
            "             ReLU-20             [-1, 16, 7, 7]               0\n",
            "      BatchNorm2d-21             [-1, 16, 7, 7]              32\n",
            "        AvgPool2d-22             [-1, 16, 1, 1]               0\n",
            "           Conv2d-23             [-1, 10, 1, 1]             160\n",
            "================================================================\n",
            "Total params: 15,832\n",
            "Trainable params: 15,832\n",
            "Non-trainable params: 0\n",
            "----------------------------------------------------------------\n",
            "Input size (MB): 0.00\n",
            "Forward/backward pass size (MB): 1.10\n",
            "Params size (MB): 0.06\n",
            "Estimated Total Size (MB): 1.16\n",
            "----------------------------------------------------------------\n"
          ]
        }
      ],
      "source": [
        "# check model summary\n",
        "model = Network_1().to(device)\n",
        "summary(model, input_size=(1, 28, 28))"
      ]
    },
    {
      "cell_type": "code",
      "execution_count": 13,
      "metadata": {
        "colab": {
          "base_uri": "https://localhost:8080/"
        },
        "id": "8kY280erkXzu",
        "outputId": "90e40ec7-f518-4ee9-8083-00a1984e6b35"
      },
      "outputs": [
        {
          "name": "stderr",
          "output_type": "stream",
          "text": [
            "\r  0%|          | 0/938 [00:00<?, ?it/s]"
          ]
        },
        {
          "name": "stdout",
          "output_type": "stream",
          "text": [
            "\n",
            " epoch num ================================= 1\n"
          ]
        },
        {
          "name": "stderr",
          "output_type": "stream",
          "text": [
            "100%|██████████| 938/938 [00:20<00:00, 45.81it/s]"
          ]
        },
        {
          "name": "stdout",
          "output_type": "stream",
          "text": [
            "Train metrics: accuracy: 55494/60000 (92.4900%)\n"
          ]
        },
        {
          "name": "stderr",
          "output_type": "stream",
          "text": [
            "\n",
            "  0%|          | 0/938 [00:00<?, ?it/s]"
          ]
        },
        {
          "name": "stdout",
          "output_type": "stream",
          "text": [
            "Test metrics: average loss: 0.0659, accuracy: 9838/10000 (98.38000%)\n",
            "\n",
            "\n",
            " epoch num ================================= 2\n"
          ]
        },
        {
          "name": "stderr",
          "output_type": "stream",
          "text": [
            "100%|██████████| 938/938 [00:20<00:00, 46.73it/s]"
          ]
        },
        {
          "name": "stdout",
          "output_type": "stream",
          "text": [
            "Train metrics: accuracy: 58551/60000 (97.5850%)\n"
          ]
        },
        {
          "name": "stderr",
          "output_type": "stream",
          "text": [
            "\n",
            "  0%|          | 0/938 [00:00<?, ?it/s]"
          ]
        },
        {
          "name": "stdout",
          "output_type": "stream",
          "text": [
            "Test metrics: average loss: 0.0622, accuracy: 9798/10000 (97.98000%)\n",
            "\n",
            "\n",
            " epoch num ================================= 3\n"
          ]
        },
        {
          "name": "stderr",
          "output_type": "stream",
          "text": [
            "100%|██████████| 938/938 [00:20<00:00, 46.41it/s]"
          ]
        },
        {
          "name": "stdout",
          "output_type": "stream",
          "text": [
            "Train metrics: accuracy: 59046/60000 (98.4100%)\n"
          ]
        },
        {
          "name": "stderr",
          "output_type": "stream",
          "text": [
            "\n",
            "  0%|          | 0/938 [00:00<?, ?it/s]"
          ]
        },
        {
          "name": "stdout",
          "output_type": "stream",
          "text": [
            "Test metrics: average loss: 0.0329, accuracy: 9896/10000 (98.96000%)\n",
            "\n",
            "\n",
            " epoch num ================================= 4\n"
          ]
        },
        {
          "name": "stderr",
          "output_type": "stream",
          "text": [
            "100%|██████████| 938/938 [00:20<00:00, 46.71it/s]"
          ]
        },
        {
          "name": "stdout",
          "output_type": "stream",
          "text": [
            "Train metrics: accuracy: 59284/60000 (98.8067%)\n"
          ]
        },
        {
          "name": "stderr",
          "output_type": "stream",
          "text": [
            "\n",
            "  0%|          | 0/938 [00:00<?, ?it/s]"
          ]
        },
        {
          "name": "stdout",
          "output_type": "stream",
          "text": [
            "Test metrics: average loss: 0.0390, accuracy: 9879/10000 (98.79000%)\n",
            "\n",
            "\n",
            " epoch num ================================= 5\n"
          ]
        },
        {
          "name": "stderr",
          "output_type": "stream",
          "text": [
            "100%|██████████| 938/938 [00:19<00:00, 47.73it/s]"
          ]
        },
        {
          "name": "stdout",
          "output_type": "stream",
          "text": [
            "Train metrics: accuracy: 59385/60000 (98.9750%)\n"
          ]
        },
        {
          "name": "stderr",
          "output_type": "stream",
          "text": [
            "\n",
            "  0%|          | 0/938 [00:00<?, ?it/s]"
          ]
        },
        {
          "name": "stdout",
          "output_type": "stream",
          "text": [
            "Test metrics: average loss: 0.0314, accuracy: 9898/10000 (98.98000%)\n",
            "\n",
            "\n",
            " epoch num ================================= 6\n"
          ]
        },
        {
          "name": "stderr",
          "output_type": "stream",
          "text": [
            "100%|██████████| 938/938 [00:19<00:00, 46.94it/s]"
          ]
        },
        {
          "name": "stdout",
          "output_type": "stream",
          "text": [
            "Train metrics: accuracy: 59446/60000 (99.0767%)\n"
          ]
        },
        {
          "name": "stderr",
          "output_type": "stream",
          "text": [
            "\n",
            "  0%|          | 0/938 [00:00<?, ?it/s]"
          ]
        },
        {
          "name": "stdout",
          "output_type": "stream",
          "text": [
            "Test metrics: average loss: 0.0365, accuracy: 9895/10000 (98.95000%)\n",
            "\n",
            "\n",
            " epoch num ================================= 7\n"
          ]
        },
        {
          "name": "stderr",
          "output_type": "stream",
          "text": [
            "100%|██████████| 938/938 [00:19<00:00, 47.51it/s]"
          ]
        },
        {
          "name": "stdout",
          "output_type": "stream",
          "text": [
            "Train metrics: accuracy: 59480/60000 (99.1333%)\n"
          ]
        },
        {
          "name": "stderr",
          "output_type": "stream",
          "text": [
            "\n",
            "  0%|          | 0/938 [00:00<?, ?it/s]"
          ]
        },
        {
          "name": "stdout",
          "output_type": "stream",
          "text": [
            "Test metrics: average loss: 0.0290, accuracy: 9907/10000 (99.07000%)\n",
            "\n",
            "\n",
            " epoch num ================================= 8\n"
          ]
        },
        {
          "name": "stderr",
          "output_type": "stream",
          "text": [
            "100%|██████████| 938/938 [00:19<00:00, 47.01it/s]"
          ]
        },
        {
          "name": "stdout",
          "output_type": "stream",
          "text": [
            "Train metrics: accuracy: 59494/60000 (99.1567%)\n"
          ]
        },
        {
          "name": "stderr",
          "output_type": "stream",
          "text": [
            "\n",
            "  0%|          | 0/938 [00:00<?, ?it/s]"
          ]
        },
        {
          "name": "stdout",
          "output_type": "stream",
          "text": [
            "Test metrics: average loss: 0.0284, accuracy: 9908/10000 (99.08000%)\n",
            "\n",
            "\n",
            " epoch num ================================= 9\n"
          ]
        },
        {
          "name": "stderr",
          "output_type": "stream",
          "text": [
            "100%|██████████| 938/938 [00:20<00:00, 46.40it/s]"
          ]
        },
        {
          "name": "stdout",
          "output_type": "stream",
          "text": [
            "Train metrics: accuracy: 59609/60000 (99.3483%)\n"
          ]
        },
        {
          "name": "stderr",
          "output_type": "stream",
          "text": [
            "\n",
            "  0%|          | 0/938 [00:00<?, ?it/s]"
          ]
        },
        {
          "name": "stdout",
          "output_type": "stream",
          "text": [
            "Test metrics: average loss: 0.0419, accuracy: 9870/10000 (98.70000%)\n",
            "\n",
            "\n",
            " epoch num ================================= 10\n"
          ]
        },
        {
          "name": "stderr",
          "output_type": "stream",
          "text": [
            "100%|██████████| 938/938 [00:20<00:00, 46.30it/s]"
          ]
        },
        {
          "name": "stdout",
          "output_type": "stream",
          "text": [
            "Train metrics: accuracy: 59605/60000 (99.3417%)\n"
          ]
        },
        {
          "name": "stderr",
          "output_type": "stream",
          "text": [
            "\n",
            "  0%|          | 0/938 [00:00<?, ?it/s]"
          ]
        },
        {
          "name": "stdout",
          "output_type": "stream",
          "text": [
            "Test metrics: average loss: 0.0359, accuracy: 9881/10000 (98.81000%)\n",
            "\n",
            "\n",
            " epoch num ================================= 11\n"
          ]
        },
        {
          "name": "stderr",
          "output_type": "stream",
          "text": [
            "100%|██████████| 938/938 [00:20<00:00, 45.93it/s]"
          ]
        },
        {
          "name": "stdout",
          "output_type": "stream",
          "text": [
            "Train metrics: accuracy: 59647/60000 (99.4117%)\n"
          ]
        },
        {
          "name": "stderr",
          "output_type": "stream",
          "text": [
            "\n",
            "  0%|          | 0/938 [00:00<?, ?it/s]"
          ]
        },
        {
          "name": "stdout",
          "output_type": "stream",
          "text": [
            "Test metrics: average loss: 0.0271, accuracy: 9914/10000 (99.14000%)\n",
            "\n",
            "\n",
            " epoch num ================================= 12\n"
          ]
        },
        {
          "name": "stderr",
          "output_type": "stream",
          "text": [
            "100%|██████████| 938/938 [00:20<00:00, 46.43it/s]"
          ]
        },
        {
          "name": "stdout",
          "output_type": "stream",
          "text": [
            "Train metrics: accuracy: 59672/60000 (99.4533%)\n"
          ]
        },
        {
          "name": "stderr",
          "output_type": "stream",
          "text": [
            "\n",
            "  0%|          | 0/938 [00:00<?, ?it/s]"
          ]
        },
        {
          "name": "stdout",
          "output_type": "stream",
          "text": [
            "Test metrics: average loss: 0.0336, accuracy: 9894/10000 (98.94000%)\n",
            "\n",
            "\n",
            " epoch num ================================= 13\n"
          ]
        },
        {
          "name": "stderr",
          "output_type": "stream",
          "text": [
            "100%|██████████| 938/938 [00:20<00:00, 45.51it/s]"
          ]
        },
        {
          "name": "stdout",
          "output_type": "stream",
          "text": [
            "Train metrics: accuracy: 59706/60000 (99.5100%)\n"
          ]
        },
        {
          "name": "stderr",
          "output_type": "stream",
          "text": [
            "\n",
            "  0%|          | 0/938 [00:00<?, ?it/s]"
          ]
        },
        {
          "name": "stdout",
          "output_type": "stream",
          "text": [
            "Test metrics: average loss: 0.0277, accuracy: 9913/10000 (99.13000%)\n",
            "\n",
            "\n",
            " epoch num ================================= 14\n"
          ]
        },
        {
          "name": "stderr",
          "output_type": "stream",
          "text": [
            "100%|██████████| 938/938 [00:20<00:00, 45.97it/s]"
          ]
        },
        {
          "name": "stdout",
          "output_type": "stream",
          "text": [
            "Train metrics: accuracy: 59700/60000 (99.5000%)\n"
          ]
        },
        {
          "name": "stderr",
          "output_type": "stream",
          "text": [
            "\n",
            "  0%|          | 0/938 [00:00<?, ?it/s]"
          ]
        },
        {
          "name": "stdout",
          "output_type": "stream",
          "text": [
            "Test metrics: average loss: 0.0289, accuracy: 9918/10000 (99.18000%)\n",
            "\n",
            "\n",
            " epoch num ================================= 15\n"
          ]
        },
        {
          "name": "stderr",
          "output_type": "stream",
          "text": [
            "100%|██████████| 938/938 [00:20<00:00, 45.28it/s]"
          ]
        },
        {
          "name": "stdout",
          "output_type": "stream",
          "text": [
            "Train metrics: accuracy: 59732/60000 (99.5533%)\n"
          ]
        },
        {
          "name": "stderr",
          "output_type": "stream",
          "text": [
            "\n"
          ]
        },
        {
          "name": "stdout",
          "output_type": "stream",
          "text": [
            "Test metrics: average loss: 0.0258, accuracy: 9918/10000 (99.18000%)\n",
            "\n"
          ]
        }
      ],
      "source": [
        "# initialize the optimizer with model's parameters\n",
        "optimizer = optim.SGD(model.parameters(), lr=0.01,momentum=0.9)\n",
        "\n",
        "# \n",
        "train_eval_model(model, train_loader, optimizer, device, epochs=15, test=True, test_loader=test_loader)"
      ]
    },
    {
      "cell_type": "markdown",
      "metadata": {
        "id": "Xrxy5gUxm93w"
      },
      "source": [
        "## Plotting the loss and accuracy values for both train and test metrics with epochs"
      ]
    },
    {
      "cell_type": "code",
      "execution_count": 14,
      "metadata": {
        "colab": {
          "base_uri": "https://localhost:8080/",
          "height": 624
        },
        "id": "Unvr3Mw7leZB",
        "outputId": "32d7956f-f7c5-4d5a-87ac-ba4ad28eee34"
      },
      "outputs": [
        {
          "data": {
            "text/plain": [
              "Text(0.5, 1.0, 'Test Accuracy')"
            ]
          },
          "execution_count": 14,
          "metadata": {
            "tags": []
          },
          "output_type": "execute_result"
        },
        {
          "data": {
            "image/png": "[encoded data removed]",
            "text/plain": [
              "<Figure size 1440x720 with 4 Axes>"
            ]
          },
          "metadata": {
            "needs_background": "light",
            "tags": []
          },
          "output_type": "display_data"
        }
      ],
      "source": [
        "fig, axs = plt.subplots(2,2,figsize=(20,10))\n",
        "axs[0, 0].plot(train_losses)\n",
        "axs[0, 0].set_title(\"Training Loss\")\n",
        "axs[1, 0].plot(train_accuracy)\n",
        "axs[1, 0].set_title(\"Training Accuracy\")\n",
        "axs[0, 1].plot(test_losses)\n",
        "axs[0, 1].set_title(\"Test Loss\")\n",
        "axs[1, 1].plot(test_accuracy)\n",
        "axs[1, 1].set_title(\"Test Accuracy\")"
      ]
    },
    {
      "attachments": {},
      "cell_type": "markdown",
      "metadata": {
        "id": "Sqbz0wQNnOD_"
      },
      "source": [
        "# Code 1 Notes:\n",
        "\n",
        "---------\n",
        "\n",
        "## Target:\n",
        "\n",
        "This attempt was to have a working yet very basic model. The approach was to stick with known way of increasing filters. But still maintaining the total parameters on lower spectrum without being finicky about it. The idea here was to have a fixed arrangement of layers and observe (and try to increase) the training capabilities of the network.\n",
        "\n",
        "------\n",
        "\n",
        "## Results:\n",
        "\n",
        "> Total params:          15,832\n",
        "\n",
        "> Total epochs:          15\n",
        "\n",
        "> Last epoch accuracies: Train 99.55% ; Test 99.18%\n",
        "\n",
        "\n",
        "`1)` Train accuracy starts with 92% and gradually crosses 99% mark in 6th epoch.\n",
        "\n",
        "`2)` With increasing epochs and train accuracy, test accuracy hits 99% and is almost consistent from 11th epoch\n",
        "\n",
        "`3)` Final train accuracy is good (99.5%+) and test accuracy is 99.18%\n",
        "\n",
        "-------\n",
        "\n",
        "## Analysis:\n",
        "`1)` First experiment without BN was giving larger gap between 2 accuracies and lower test accuracy. Since have 3 codes to submit decided to add BN in 1st one.\n",
        "\n",
        "`2)` Despite train acc. being high, test acc. lags behind with a considerable difference, which tantamounts to having some level of over-fitting.\n",
        "\n",
        "`3)` As the train acc. already has crossed 99.5% mark, there is only a small room for further improvement for the network and to push test accuracy higher. More epochs would hardly make some difference as test accuracy started to saturate towards the end and was moving within 99.10 - 99.20 % range\n",
        "\n",
        "`4)` Using 1x1 definitely helped not only in reducing number of params to an extent (although the aim was not that here\n",
        ") as well as in achieving decent accuracy as it helped in _selection_ of important channels and merging them together instead of just performing feature extraction like 3x3.\n",
        "\n",
        "`5)` Moving forward will include `Dropout` to help reduce gap between train and test accuracies. And will also experiment with basic `Data Augmentation` **but will add and experiment with 1 thing at a time !**\n",
        "\n",
        "---\n",
        "\n",
        "![](https://pbs.twimg.com/media/EegSVtOXkAAcI_l?format=jpg&name=small)"
      ]
    },
    {
      "cell_type": "code",
      "execution_count": null,
      "metadata": {
        "id": "fZRUiB-QBt0l"
      },
      "outputs": [],
      "source": []
    }
  ],
  "metadata": {
    "accelerator": "GPU",
    "colab": {
      "collapsed_sections": [],
      "name": "EVA 6 S5 Code 1_Simple Architecture.ipynb",
      "provenance": []
    },
    "kernelspec": {
      "display_name": "Python 3",
      "language": "python",
      "name": "python3"
    },
    "language_info": {
      "name": "python",
      "version": "3.11.1 (main, Dec 23 2022, 09:39:26) [Clang 14.0.0 (clang-1400.0.29.202)]"
    },
    "vscode": {
      "interpreter": {
        "hash": "1a1af0ee75eeea9e2e1ee996c87e7a2b11a0bebd85af04bb136d915cefc0abce"
      }
    }
  },
  "nbformat": 4,
  "nbformat_minor": 0
}
